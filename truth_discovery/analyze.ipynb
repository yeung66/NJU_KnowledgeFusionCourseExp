{
 "cells": [
  {
   "cell_type": "code",
   "execution_count": 1,
   "id": "b3da75e3",
   "metadata": {},
   "outputs": [],
   "source": [
    "import numpy as np\n",
    "import pandas as pd"
   ]
  },
  {
   "cell_type": "code",
   "execution_count": 4,
   "id": "39d4671b",
   "metadata": {},
   "outputs": [],
   "source": [
    "in_path = \"dataset//book.txt\""
   ]
  },
  {
   "cell_type": "code",
   "execution_count": 5,
   "id": "ecd06615",
   "metadata": {},
   "outputs": [],
   "source": [
    "df = pd.read_csv(in_path, sep='\\t', names=[\"source\", \"isbn\", \"book\", \"author\"])"
   ]
  },
  {
   "cell_type": "code",
   "execution_count": 25,
   "id": "1ded3133",
   "metadata": {},
   "outputs": [
    {
     "data": {
      "text/plain": [
       "1265"
      ]
     },
     "execution_count": 25,
     "metadata": {},
     "output_type": "execute_result"
    }
   ],
   "source": [
    "len(df['isbn'].unique())"
   ]
  },
  {
   "cell_type": "code",
   "execution_count": 20,
   "id": "fae6c42e",
   "metadata": {},
   "outputs": [],
   "source": [
    "df['author'] = df['author'].astype(str)"
   ]
  },
  {
   "cell_type": "code",
   "execution_count": 21,
   "id": "90a3743e",
   "metadata": {},
   "outputs": [
    {
     "data": {
      "text/plain": [
       "0                                            not available\n",
       "1                                         knuth, donald e.\n",
       "2                                                      nan\n",
       "3                                         knuth, donald e.\n",
       "4                                                    knuth\n",
       "                               ...                        \n",
       "33966    franklin f. kuo|wolfgang effelsberg|j. j. garc...\n",
       "33967                                                  kuo\n",
       "33968                                  wolfgang effelsberg\n",
       "33969                                frank kuo, j. j. luna\n",
       "33970    franklin f. kuo j. joaquin garcia luna-aceves ...\n",
       "Length: 33971, dtype: object"
      ]
     },
     "execution_count": 21,
     "metadata": {},
     "output_type": "execute_result"
    }
   ],
   "source": [
    "df.apply(lambda x:x['author'].lower(), axis=1)"
   ]
  },
  {
   "cell_type": "code",
   "execution_count": 22,
   "id": "f156c8be",
   "metadata": {},
   "outputs": [
    {
     "data": {
      "text/plain": [
       "0                                            Not Available\n",
       "1                                         Knuth, Donald E.\n",
       "2                                                      nan\n",
       "3                                         Knuth, Donald E.\n",
       "4                                                    Knuth\n",
       "                               ...                        \n",
       "33966    Franklin F. Kuo|Wolfgang Effelsberg|J. J. Garc...\n",
       "33967                                                  KUO\n",
       "33968                                  Wolfgang Effelsberg\n",
       "33969                                Frank Kuo, J. J. Luna\n",
       "33970    Franklin F. Kuo J. Joaquin Garcia Luna-Aceves ...\n",
       "Name: author, Length: 33971, dtype: object"
      ]
     },
     "execution_count": 22,
     "metadata": {},
     "output_type": "execute_result"
    }
   ],
   "source": [
    "df['author'] == "
   ]
  },
  {
   "cell_type": "code",
   "execution_count": null,
   "id": "62ede8cb",
   "metadata": {},
   "outputs": [],
   "source": []
  }
 ],
 "metadata": {
  "kernelspec": {
   "display_name": "Python 3",
   "language": "python",
   "name": "python3"
  },
  "language_info": {
   "codemirror_mode": {
    "name": "ipython",
    "version": 3
   },
   "file_extension": ".py",
   "mimetype": "text/x-python",
   "name": "python",
   "nbconvert_exporter": "python",
   "pygments_lexer": "ipython3",
   "version": "3.9.1"
  }
 },
 "nbformat": 4,
 "nbformat_minor": 5
}
